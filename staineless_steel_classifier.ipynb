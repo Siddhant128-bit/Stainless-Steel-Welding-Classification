{
 "cells": [
  {
   "attachments": {},
   "cell_type": "markdown",
   "metadata": {},
   "source": [
    "<h2 align='center'> Stainless Steel Classification </h3>\n",
    "\n",
    "<p> The General idea of this notebook is to highlight all the process and subprocesses done for Stainless Steel Classification.<br>For this project we have used the dataset provided <a href=\"https://www.kaggle.com/code/kerneler/starter-tig-stainless-steel-304-ee6df282-0/data\">Here</a>. </p>\n",
    "\n",
    "<h4> <u> Dataset Discussion </u> </h4>\n",
    "<div>\n",
    "    <img src='Assets\\Dataset_Labels.png' align='right' width=600 height=300>\n",
    "    <p align='left'><br>Our Dataset has been label encoded as following: <br> The idea is that provided an image our classifier will be able to classify the results as one of the following labels. <br><br>[\"good weld\",\"burn through\",\"contamination\",\"lack of fusion\",\"lack of shielding gas\",\"high travel speed\"]<br><br>\n",
    "    Since we are following supervised approach we have a json file which maps each image with corresponding output labels which can be used to map each image with corresponding labels. <br><br> The mentioned json file can be seen below: <br> <br></p>\n",
    "    <img src='Assets\\json_files.png' width=550>\n",
    "</div>\n",
    "\n",
    "\n",
    "<h3> 0. Intalling Dependencies </h3>"
   ]
  },
  {
   "cell_type": "code",
   "execution_count": null,
   "metadata": {},
   "outputs": [],
   "source": [
    "!pip install tensorflow \n",
    "!pip install -U scikit-learn\n",
    "!pip install numpy\n",
    "!pip install pillow\n"
   ]
  },
  {
   "attachments": {},
   "cell_type": "markdown",
   "metadata": {},
   "source": [
    "<h3> 1. Importing Dependencies </h3>\n",
    "\n",
    "Let's import all the dependencies so we can use it later"
   ]
  },
  {
   "cell_type": "code",
   "execution_count": 2,
   "metadata": {},
   "outputs": [],
   "source": [
    "import json\n",
    "import numpy as np \n",
    "from PIL import Image\n",
    "import tensorflow as tf\n",
    "\n",
    "\n",
    "np.set_printoptions(threshold=sys.maxsize)"
   ]
  },
  {
   "attachments": {},
   "cell_type": "markdown",
   "metadata": {},
   "source": [
    "<h3> 1. PreProcessing </h3>\n",
    "\n",
    "<p> Once Downloaded please unzip the dataset on the same working directory and the folder directory should be: <br>\n",
    "\n",
    "<i>../ss304/train/train.json</i>\n",
    "</p>\n"
   ]
  },
  {
   "cell_type": "code",
   "execution_count": 3,
   "metadata": {},
   "outputs": [
    {
     "name": "stdout",
     "output_type": "stream",
     "text": [
      "Getting all the images, Resizing it and converting it to numpy array so that it can be fitted on CNN. It might take some time depending upon processing speed\n"
     ]
    },
    {
     "ename": "KeyboardInterrupt",
     "evalue": "",
     "output_type": "error",
     "traceback": [
      "\u001b[1;31m---------------------------------------------------------------------------\u001b[0m",
      "\u001b[1;31mKeyboardInterrupt\u001b[0m                         Traceback (most recent call last)",
      "Cell \u001b[1;32mIn[3], line 29\u001b[0m\n\u001b[0;32m     24\u001b[0m     \u001b[39m#labels=tf.keras.utils.to_categorical(labels)\u001b[39;00m\n\u001b[0;32m     25\u001b[0m     \u001b[39mreturn\u001b[39;00m features,labels\n\u001b[1;32m---> 29\u001b[0m X,Y\u001b[39m=\u001b[39mget_images_array_and_labels(\u001b[39m'\u001b[39;49m\u001b[39mss304\u001b[39;49m\u001b[39m\\\\\u001b[39;49;00m\u001b[39mtrain\u001b[39;49m\u001b[39m\\\\\u001b[39;49;00m\u001b[39mtrain.json\u001b[39;49m\u001b[39m'\u001b[39;49m)\n\u001b[0;32m     30\u001b[0m Xtest,Ytest\u001b[39m=\u001b[39mget_images_array_and_labels(\u001b[39m'\u001b[39m\u001b[39mss304\u001b[39m\u001b[39m\\\\\u001b[39;00m\u001b[39mtest\u001b[39m\u001b[39m\\\\\u001b[39;00m\u001b[39mtest.json\u001b[39m\u001b[39m'\u001b[39m)\n",
      "Cell \u001b[1;32mIn[3], line 22\u001b[0m, in \u001b[0;36mget_images_array_and_labels\u001b[1;34m(path)\u001b[0m\n\u001b[0;32m     20\u001b[0m features\u001b[39m=\u001b[39m\u001b[39mlist\u001b[39m(datasets\u001b[39m.\u001b[39mkeys())\n\u001b[0;32m     21\u001b[0m features\u001b[39m=\u001b[39m[\u001b[39m'\u001b[39m\u001b[39m/\u001b[39m\u001b[39m'\u001b[39m\u001b[39m.\u001b[39mjoin(path\u001b[39m.\u001b[39msplit(\u001b[39m'\u001b[39m\u001b[39m\\\\\u001b[39;00m\u001b[39m'\u001b[39m)[\u001b[39m0\u001b[39m:\u001b[39m-\u001b[39m\u001b[39m1\u001b[39m])\u001b[39m+\u001b[39m\u001b[39m'\u001b[39m\u001b[39m/\u001b[39m\u001b[39m'\u001b[39m\u001b[39m+\u001b[39m\u001b[39mstr\u001b[39m(i) \u001b[39mfor\u001b[39;00m i \u001b[39min\u001b[39;00m features]\n\u001b[1;32m---> 22\u001b[0m features\u001b[39m=\u001b[39mnp\u001b[39m.\u001b[39marray([convert_to_array(i,features,\u001b[39m0\u001b[39m) \u001b[39mfor\u001b[39;00m i \u001b[39min\u001b[39;00m \u001b[39mrange\u001b[39m(\u001b[39mlen\u001b[39m(features))])\n\u001b[0;32m     23\u001b[0m labels\u001b[39m=\u001b[39mnp\u001b[39m.\u001b[39marray(\u001b[39mlist\u001b[39m(datasets\u001b[39m.\u001b[39mvalues()))\u001b[39m.\u001b[39mreshape(\u001b[39m-\u001b[39m\u001b[39m1\u001b[39m,\u001b[39m1\u001b[39m)\n\u001b[0;32m     24\u001b[0m \u001b[39m#labels=tf.keras.utils.to_categorical(labels)\u001b[39;00m\n",
      "Cell \u001b[1;32mIn[3], line 22\u001b[0m, in \u001b[0;36m<listcomp>\u001b[1;34m(.0)\u001b[0m\n\u001b[0;32m     20\u001b[0m features\u001b[39m=\u001b[39m\u001b[39mlist\u001b[39m(datasets\u001b[39m.\u001b[39mkeys())\n\u001b[0;32m     21\u001b[0m features\u001b[39m=\u001b[39m[\u001b[39m'\u001b[39m\u001b[39m/\u001b[39m\u001b[39m'\u001b[39m\u001b[39m.\u001b[39mjoin(path\u001b[39m.\u001b[39msplit(\u001b[39m'\u001b[39m\u001b[39m\\\\\u001b[39;00m\u001b[39m'\u001b[39m)[\u001b[39m0\u001b[39m:\u001b[39m-\u001b[39m\u001b[39m1\u001b[39m])\u001b[39m+\u001b[39m\u001b[39m'\u001b[39m\u001b[39m/\u001b[39m\u001b[39m'\u001b[39m\u001b[39m+\u001b[39m\u001b[39mstr\u001b[39m(i) \u001b[39mfor\u001b[39;00m i \u001b[39min\u001b[39;00m features]\n\u001b[1;32m---> 22\u001b[0m features\u001b[39m=\u001b[39mnp\u001b[39m.\u001b[39marray([convert_to_array(i,features,\u001b[39m0\u001b[39;49m) \u001b[39mfor\u001b[39;00m i \u001b[39min\u001b[39;00m \u001b[39mrange\u001b[39m(\u001b[39mlen\u001b[39m(features))])\n\u001b[0;32m     23\u001b[0m labels\u001b[39m=\u001b[39mnp\u001b[39m.\u001b[39marray(\u001b[39mlist\u001b[39m(datasets\u001b[39m.\u001b[39mvalues()))\u001b[39m.\u001b[39mreshape(\u001b[39m-\u001b[39m\u001b[39m1\u001b[39m,\u001b[39m1\u001b[39m)\n\u001b[0;32m     24\u001b[0m \u001b[39m#labels=tf.keras.utils.to_categorical(labels)\u001b[39;00m\n",
      "Cell \u001b[1;32mIn[3], line 9\u001b[0m, in \u001b[0;36mconvert_to_array\u001b[1;34m(i, features, f)\u001b[0m\n\u001b[0;32m      6\u001b[0m \u001b[39melse\u001b[39;00m: \n\u001b[0;32m      7\u001b[0m     image\u001b[39m=\u001b[39mi\n\u001b[1;32m----> 9\u001b[0m image \u001b[39m=\u001b[39m Image\u001b[39m.\u001b[39;49mopen(image)\n\u001b[0;32m     10\u001b[0m image\u001b[39m=\u001b[39mimage\u001b[39m.\u001b[39mresize((\u001b[39m200\u001b[39m,\u001b[39m200\u001b[39m))\n\u001b[0;32m     11\u001b[0m numpydata \u001b[39m=\u001b[39m np\u001b[39m.\u001b[39masarray(image)\n",
      "File \u001b[1;32mc:\\Users\\FM-PC-LT-233\\anaconda3\\envs\\project_stainless_s\\lib\\site-packages\\PIL\\Image.py:3227\u001b[0m, in \u001b[0;36mopen\u001b[1;34m(fp, mode, formats)\u001b[0m\n\u001b[0;32m   3224\u001b[0m     filename \u001b[39m=\u001b[39m fp\n\u001b[0;32m   3226\u001b[0m \u001b[39mif\u001b[39;00m filename:\n\u001b[1;32m-> 3227\u001b[0m     fp \u001b[39m=\u001b[39m builtins\u001b[39m.\u001b[39;49mopen(filename, \u001b[39m\"\u001b[39;49m\u001b[39mrb\u001b[39;49m\u001b[39m\"\u001b[39;49m)\n\u001b[0;32m   3228\u001b[0m     exclusive_fp \u001b[39m=\u001b[39m \u001b[39mTrue\u001b[39;00m\n\u001b[0;32m   3230\u001b[0m \u001b[39mtry\u001b[39;00m:\n",
      "\u001b[1;31mKeyboardInterrupt\u001b[0m: "
     ]
    }
   ],
   "source": [
    "def convert_to_array(i,features,f):\n",
    "\n",
    "    if f==0:\n",
    "        image=features[i]\n",
    "        \n",
    "    else: \n",
    "        image=i\n",
    "    \n",
    "    image = Image.open(image)\n",
    "    image=image.resize((200,200))\n",
    "    numpydata = np.asarray(image)\n",
    "    \n",
    "    return numpydata\n",
    "\n",
    "\n",
    "def get_images_array_and_labels(path):\n",
    "    print('Getting all the images, Resizing it and converting it to numpy array so that it can be fitted on CNN. It might take some time depending upon processing speed')\n",
    "    with open(path,'r') as datasets:\n",
    "        datasets=json.load(datasets)\n",
    "    features=list(datasets.keys())\n",
    "    features=['/'.join(path.split('\\\\')[0:-1])+'/'+str(i) for i in features]\n",
    "    features=np.array([convert_to_array(i,features,0) for i in range(len(features))])\n",
    "    labels=np.array(list(datasets.values())).reshape(-1,1)\n",
    "    #labels=tf.keras.utils.to_categorical(labels)\n",
    "    return features,labels\n",
    "    \n",
    "    \n",
    "\n",
    "X,Y=get_images_array_and_labels('ss304\\\\train\\\\train.json')\n",
    "Xtest,Ytest=get_images_array_and_labels('ss304\\\\test\\\\test.json')"
   ]
  },
  {
   "cell_type": "code",
   "execution_count": 4,
   "metadata": {},
   "outputs": [
    {
     "name": "stdout",
     "output_type": "stream",
     "text": [
      "Model: \"sequential\"\n",
      "_________________________________________________________________\n",
      " Layer (type)                Output Shape              Param #   \n",
      "=================================================================\n",
      " conv2d (Conv2D)             (None, 198, 198, 16)      160       \n",
      "                                                                 \n",
      " max_pooling2d (MaxPooling2D  (None, 99, 99, 16)       0         \n",
      " )                                                               \n",
      "                                                                 \n",
      " conv2d_1 (Conv2D)           (None, 97, 97, 32)        4640      \n",
      "                                                                 \n",
      " max_pooling2d_1 (MaxPooling  (None, 48, 48, 32)       0         \n",
      " 2D)                                                             \n",
      "                                                                 \n",
      " flatten (Flatten)           (None, 73728)             0         \n",
      "                                                                 \n",
      " dense (Dense)               (None, 32)                2359328   \n",
      "                                                                 \n",
      " dense_1 (Dense)             (None, 16)                528       \n",
      "                                                                 \n",
      " dense_2 (Dense)             (None, 6)                 102       \n",
      "                                                                 \n",
      "=================================================================\n",
      "Total params: 2,364,758\n",
      "Trainable params: 2,364,758\n",
      "Non-trainable params: 0\n",
      "_________________________________________________________________\n"
     ]
    }
   ],
   "source": [
    "def create_cnn_model():\n",
    "    model=tf.keras.models.Sequential()\n",
    "\n",
    "    #Convlution Process Starts here.\n",
    "    model.add(tf.keras.layers.Conv2D(16,(3,3),activation='relu',input_shape=(200, 200, 1)))\n",
    "    model.add(tf.keras.layers.MaxPool2D((2,2)))\n",
    "    \n",
    "    model.add(tf.keras.layers.Conv2D(32,(3,3),activation='relu'))\n",
    "    model.add(tf.keras.layers.MaxPool2D((2,2)))\n",
    "    \n",
    "    #model.add(tf.keras.layers.Conv2D(64,(3,3),activation='relu'))\n",
    "    #model.add(tf.keras.layers.MaxPool2D((2,2)))\n",
    "    \n",
    "    #model.add(tf.keras.layers.Conv2D(128,(3,3),activation='relu'))\n",
    "    #model.add(tf.keras.layers.MaxPool2D((2,2)))\n",
    "    \n",
    "    #model.add(tf.keras.layers.Conv2D(128,(3,3),activation='relu'))\n",
    "    #model.add(tf.keras.layers.MaxPool2D((2,2)))\n",
    "    \n",
    "    #model.add(tf.keras.layers.Conv2D(64,(3,3),activation='relu'))\n",
    "    #model.add(tf.keras.layers.MaxPool2D((2,2)))\n",
    "    \n",
    "    #Fully Connected Layer from here \n",
    "    model.add(tf.keras.layers.Flatten())\n",
    "    model.add(tf.keras.layers.Dense(32,activation='relu',kernel_regularizer=tf.keras.regularizers.L2(l2=0.001)))\n",
    "    model.add(tf.keras.layers.Dense(16,activation='relu',kernel_regularizer=tf.keras.regularizers.L2(l2=0.001)))\n",
    "    model.add(tf.keras.layers.Dense(6,activation='softmax',kernel_regularizer=tf.keras.regularizers.L2(l2=0.001))) \n",
    "    opt = tf.keras.optimizers.Adam(learning_rate=0.001)\n",
    "    \n",
    "    #Compile the CNN Model\n",
    "    model.compile(optimizer=opt,\n",
    "              loss=tf.keras.losses.SparseCategoricalCrossentropy(),\n",
    "              metrics=['accuracy'])\n",
    "    model.summary()\n",
    "    return model\n",
    "    \n",
    "CNN_model=create_cnn_model()"
   ]
  },
  {
   "cell_type": "code",
   "execution_count": 14,
   "metadata": {},
   "outputs": [
    {
     "name": "stdout",
     "output_type": "stream",
     "text": [
      "Epoch 1/20\n",
      "190/190 [==============================] - 100s 526ms/step - loss: 2.8983 - accuracy: 0.4021 - val_loss: 1.4452 - val_accuracy: 0.4173\n",
      "Epoch 2/20\n",
      "190/190 [==============================] - 100s 527ms/step - loss: 0.7689 - accuracy: 0.5602 - val_loss: 1.2451 - val_accuracy: 0.7720\n",
      "Epoch 3/20\n",
      "190/190 [==============================] - 104s 547ms/step - loss: 0.4801 - accuracy: 0.8442 - val_loss: 1.0323 - val_accuracy: 0.8217\n",
      "Epoch 4/20\n",
      "190/190 [==============================] - 103s 541ms/step - loss: 0.2475 - accuracy: 0.9096 - val_loss: 0.7822 - val_accuracy: 0.8172\n",
      "Epoch 5/20\n",
      "190/190 [==============================] - 103s 540ms/step - loss: 0.1996 - accuracy: 0.9456 - val_loss: 1.9657 - val_accuracy: 0.8707\n",
      "Epoch 6/20\n",
      "190/190 [==============================] - 102s 535ms/step - loss: 0.1557 - accuracy: 0.9963 - val_loss: 1.3682 - val_accuracy: 0.8651\n",
      "Epoch 7/20\n",
      "190/190 [==============================] - 104s 547ms/step - loss: 0.1269 - accuracy: 0.9989 - val_loss: 0.6995 - val_accuracy: 0.9063\n",
      "Epoch 8/20\n",
      "190/190 [==============================] - 100s 525ms/step - loss: 0.1146 - accuracy: 0.9990 - val_loss: 0.4251 - val_accuracy: 0.9130\n",
      "Epoch 9/20\n",
      "190/190 [==============================] - 100s 527ms/step - loss: 0.1014 - accuracy: 0.9993 - val_loss: 0.3728 - val_accuracy: 0.9167\n",
      "Epoch 10/20\n",
      "190/190 [==============================] - 98s 518ms/step - loss: 0.0973 - accuracy: 0.9988 - val_loss: 0.4119 - val_accuracy: 0.8916\n",
      "Epoch 11/20\n",
      "190/190 [==============================] - 96s 508ms/step - loss: 0.1055 - accuracy: 0.9931 - val_loss: 1.2459 - val_accuracy: 0.8026\n",
      "Epoch 12/20\n",
      "190/190 [==============================] - 97s 513ms/step - loss: 0.0831 - accuracy: 0.9959 - val_loss: 0.5161 - val_accuracy: 0.9039\n",
      "Epoch 13/20\n",
      "190/190 [==============================] - 99s 520ms/step - loss: 0.0552 - accuracy: 0.9997 - val_loss: 0.5180 - val_accuracy: 0.8702\n",
      "Epoch 14/20\n",
      "190/190 [==============================] - 98s 514ms/step - loss: 0.0555 - accuracy: 0.9988 - val_loss: 0.3083 - val_accuracy: 0.9324\n",
      "Epoch 15/20\n",
      "190/190 [==============================] - 97s 511ms/step - loss: 0.1363 - accuracy: 0.9784 - val_loss: 1.3225 - val_accuracy: 0.8428\n",
      "Epoch 16/20\n",
      "190/190 [==============================] - 100s 525ms/step - loss: 0.0690 - accuracy: 0.9986 - val_loss: 0.7913 - val_accuracy: 0.8754\n",
      "Epoch 17/20\n",
      "190/190 [==============================] - 99s 521ms/step - loss: 0.0507 - accuracy: 0.9994 - val_loss: 0.7747 - val_accuracy: 0.8824\n",
      "Epoch 18/20\n",
      "190/190 [==============================] - 98s 518ms/step - loss: 0.0431 - accuracy: 0.9995 - val_loss: 0.4017 - val_accuracy: 0.8867\n",
      "Epoch 19/20\n",
      "190/190 [==============================] - 99s 521ms/step - loss: 0.0376 - accuracy: 0.9997 - val_loss: 0.1269 - val_accuracy: 0.9779\n",
      "Epoch 20/20\n",
      "190/190 [==============================] - 98s 519ms/step - loss: 0.0652 - accuracy: 0.9933 - val_loss: 0.5607 - val_accuracy: 0.9072\n"
     ]
    }
   ],
   "source": [
    "#print(X_test[1].shape)\n",
    "history_for_plotting=CNN_model.fit(X,Y,epochs=20,batch_size=128,validation_data=(Xtest,Ytest),shuffle=True)"
   ]
  },
  {
   "cell_type": "code",
   "execution_count": 15,
   "metadata": {},
   "outputs": [],
   "source": [
    "CNN_model.save('Stainless_Steel_Classification_model.h5')"
   ]
  },
  {
   "attachments": {},
   "cell_type": "markdown",
   "metadata": {},
   "source": [
    "<h3> [Last Step No] Inference Testing </h3>"
   ]
  },
  {
   "cell_type": "code",
   "execution_count": 7,
   "metadata": {},
   "outputs": [
    {
     "ename": "AttributeError",
     "evalue": "module 'keras.api._v2.keras' has no attribute 'load_model'",
     "output_type": "error",
     "traceback": [
      "\u001b[1;31m---------------------------------------------------------------------------\u001b[0m",
      "\u001b[1;31mAttributeError\u001b[0m                            Traceback (most recent call last)",
      "Cell \u001b[1;32mIn[7], line 7\u001b[0m\n\u001b[0;32m      1\u001b[0m \u001b[39m#var1='ss304/train/160705-114214-50mmLens w.s.75cm.m/image-0001.png' #op=5,high travel speed\u001b[39;00m\n\u001b[0;32m      2\u001b[0m \u001b[39m#var2='ss304/test/160705-121434-50mmLens added slug/image-0001.png'  #op=2,contaimination\u001b[39;00m\n\u001b[0;32m      3\u001b[0m \u001b[39m#var3='ss304/valid/160705-114925-50mmLens w.s.16cm.m/image-0150.png' #op=0,good weld \u001b[39;00m\n\u001b[0;32m      4\u001b[0m \u001b[39m#var4='ss304/test/160708-145105-50mmLens 350A w.s.Lev16 g.f.20L.m try joining 10mm Plate/image-0042.png' #op=3, lack of fusion\u001b[39;00m\n\u001b[1;32m----> 7\u001b[0m CNN_model\u001b[39m=\u001b[39mtf\u001b[39m.\u001b[39;49mkeras\u001b[39m.\u001b[39;49mload_model(\u001b[39m'\u001b[39m\u001b[39mStainless_Steel_Classification_model.h5\u001b[39m\u001b[39m'\u001b[39m)\n\u001b[0;32m      8\u001b[0m var_input\u001b[39m=\u001b[39m\u001b[39minput\u001b[39m(\u001b[39m'\u001b[39m\u001b[39mEnter path of the image to test: \u001b[39m\u001b[39m'\u001b[39m)\n\u001b[0;32m      9\u001b[0m op_list\u001b[39m=\u001b[39m[\u001b[39m\"\u001b[39m\u001b[39mgood weld\u001b[39m\u001b[39m\"\u001b[39m,\u001b[39m\"\u001b[39m\u001b[39mburn through\u001b[39m\u001b[39m\"\u001b[39m,\u001b[39m\"\u001b[39m\u001b[39mcontamination\u001b[39m\u001b[39m\"\u001b[39m,\u001b[39m\"\u001b[39m\u001b[39mlack of fusion\u001b[39m\u001b[39m\"\u001b[39m,\u001b[39m\"\u001b[39m\u001b[39mlack of shielding gas\u001b[39m\u001b[39m\"\u001b[39m,\u001b[39m\"\u001b[39m\u001b[39mhigh travel speed\u001b[39m\u001b[39m\"\u001b[39m]\n",
      "\u001b[1;31mAttributeError\u001b[0m: module 'keras.api._v2.keras' has no attribute 'load_model'"
     ]
    }
   ],
   "source": [
    "#var1='ss304/train/160705-114214-50mmLens w.s.75cm.m/image-0001.png' #op=5,high travel speed\n",
    "#var2='ss304/test/160705-121434-50mmLens added slug/image-0001.png'  #op=2,contaimination\n",
    "#var3='ss304/valid/160705-114925-50mmLens w.s.16cm.m/image-0150.png' #op=0,good weld \n",
    "#var4='ss304/test/160708-145105-50mmLens 350A w.s.Lev16 g.f.20L.m try joining 10mm Plate/image-0042.png' #op=3, lack of fusion\n",
    "\n",
    "\n",
    "CNN_model=tf.keras.models.load_model('Stainless_Steel_Classification_model.h5')\n",
    "var_input=input('Enter path of the image to test: ')\n",
    "op_list=[\"good weld\",\"burn through\",\"contamination\",\"lack of fusion\",\"lack of shielding gas\",\"high travel speed\"]\n",
    "test_image=convert_to_array(var_input,[],1)\n",
    "prediction=CNN_model.predict(test_image.reshape(1,200,200,1))\n",
    "print(prediction)\n",
    "prediction=np.argmax(prediction)\n",
    "print(prediction)\n",
    "print(op_list[prediction])"
   ]
  },
  {
   "cell_type": "code",
   "execution_count": null,
   "metadata": {},
   "outputs": [],
   "source": []
  }
 ],
 "metadata": {
  "kernelspec": {
   "display_name": "project_stainless_s",
   "language": "python",
   "name": "python3"
  },
  "language_info": {
   "codemirror_mode": {
    "name": "ipython",
    "version": 3
   },
   "file_extension": ".py",
   "mimetype": "text/x-python",
   "name": "python",
   "nbconvert_exporter": "python",
   "pygments_lexer": "ipython3",
   "version": "3.10.9"
  },
  "orig_nbformat": 4,
  "vscode": {
   "interpreter": {
    "hash": "6b1c0ebafa5c7945aaf184b2567775486af678de817e24910505c5d1be5be7e1"
   }
  }
 },
 "nbformat": 4,
 "nbformat_minor": 2
}
