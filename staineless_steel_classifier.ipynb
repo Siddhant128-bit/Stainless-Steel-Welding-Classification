{
 "cells": [
  {
   "attachments": {},
   "cell_type": "markdown",
   "metadata": {},
   "source": [
    "<h1 align='center'> Stainless Steel Classification </h3>\n",
    "\n",
    "<p> The General idea of this notebook is to highlight all the process and subprocesses done for Stainless Steel Classification.<br>For this project we have used the dataset provided <a href=\"https://www.kaggle.com/code/kerneler/starter-tig-stainless-steel-304-ee6df282-0/data\">Here</a>. </p>\n",
    "\n",
    "<h4> <u> Dataset Discussion </u> </h4>\n",
    "<div>\n",
    "    <img src='Assets/Dataset_Labels.png' align='right' width=600 height=300>\n",
    "    <p align='left'><br>Our Dataset has been label encoded as following: <br> The idea is that provided an image our classifier will be able to classify the results as one of the following labels. <br><br>[\"good weld\",\"burn through\",\"contamination\",\"lack of fusion\",\"lack of shielding gas\",\"high travel speed\"]<br><br>\n",
    "    Since we are following supervised approach we have a json file which maps each image with corresponding output labels which can be used to map each image with corresponding labels. <br><br> The mentioned json file can be seen below: <br> <br></p>\n",
    "    <img src='Assets/json_files.png' width=550>\n",
    "</div>\n",
    "\n",
    "<br>\n",
    "<h2> 0. Intalling Dependencies </h2>"
   ]
  },
  {
   "cell_type": "code",
   "execution_count": null,
   "metadata": {},
   "outputs": [],
   "source": [
    "!pip install tensorflow \n",
    "!pip install -U scikit-learn\n",
    "!pip install numpy\n",
    "!pip install pillow\n",
    "!pip install matplotlib"
   ]
  },
  {
   "attachments": {},
   "cell_type": "markdown",
   "metadata": {},
   "source": [
    "<h2> 1. Importing Dependencies </h2>\n",
    "\n",
    "Let's import all the dependencies so we can use it later"
   ]
  },
  {
   "cell_type": "code",
   "execution_count": 4,
   "metadata": {},
   "outputs": [],
   "source": [
    "import json\n",
    "import numpy as np \n",
    "from PIL import Image\n",
    "import tensorflow as tf\n",
    "import os\n",
    "import json\n",
    "import matplotlib.pyplot as plt\n",
    "\n",
    "np.set_printoptions(threshold=sys.maxsize)"
   ]
  },
  {
   "attachments": {},
   "cell_type": "markdown",
   "metadata": {},
   "source": [
    "<h2> 1. PreProcessing </h2>\n",
    "\n",
    "<p> Once Downloaded please unzip the dataset on the same working directory and the folder directory should be: <br>\n",
    "\n",
    "<i>../ss304/train/train.json</i>\n",
    "</p>\n",
    "\n",
    "<br>\n",
    "\n",
    "<p> The steps invovled in the preprocessing steps are: <br>\n",
    "    <ol>\n",
    "        <li> Getting path of json as input train.json for train dataset and test.json for test dataset </li>\n",
    "        <li> Getting images path from jsons </li>\n",
    "        <li> Opening image and resizing them to 200x200 dimensions </li>\n",
    "        <li> Converting the resized image to numpy array </li>\n",
    "        <li> Combing all individual images array to one huge array X for training and X test for testing </li>\n",
    "        <li> Getting all the labels from jsons and converting into one huge array Y for training and Y test for testing </li>\n",
    "    </ol>\n",
    "    <br> These steps can be visualized from the image below: \n",
    "    <img src='Assets/preprocessing_under_hood.png'>\n",
    "    <br>\n",
    "    Note: This cell will take a bit of time to run because its doing alot of computations at once.\n",
    "</p>\n",
    "\n"
   ]
  },
  {
   "cell_type": "code",
   "execution_count": 94,
   "metadata": {},
   "outputs": [
    {
     "name": "stdout",
     "output_type": "stream",
     "text": [
      "Getting all the images, Resizing it and converting it to numpy array so that it can be fitted on CNN. It might take some time depending upon processing speed\n",
      "Getting all the images, Resizing it and converting it to numpy array so that it can be fitted on CNN. It might take some time depending upon processing speed\n"
     ]
    }
   ],
   "source": [
    "def convert_to_array(i,features,f):\n",
    "\n",
    "    if f==0:\n",
    "        image=features[i]\n",
    "        \n",
    "    else: \n",
    "        image=i\n",
    "    \n",
    "    image = Image.open(image)\n",
    "    image=image.resize((200,200))\n",
    "    numpydata = np.asarray(image)\n",
    "    \n",
    "    return numpydata\n",
    "\n",
    "\n",
    "def get_images_array_and_labels(path):\n",
    "    print('Getting all the images, Resizing it and converting it to numpy array so that it can be fitted on CNN. It might take some time depending upon processing speed')\n",
    "    with open(path,'r') as datasets:\n",
    "        datasets=json.load(datasets)\n",
    "    features=list(datasets.keys())\n",
    "    features=['/'.join(path.split('\\\\')[0:-1])+'/'+str(i) for i in features]\n",
    "    features=np.array([convert_to_array(i,features,0) for i in range(len(features))])\n",
    "    labels=np.array(list(datasets.values())).reshape(-1,1)\n",
    "    #labels=tf.keras.utils.to_categorical(labels)\n",
    "    return features,labels\n",
    "    \n",
    "    \n",
    "\n",
    "X,Y=get_images_array_and_labels('ss304\\\\train\\\\train.json')\n",
    "Xtest,Ytest=get_images_array_and_labels('ss304\\\\test\\\\test.json')\n",
    "#Xtest,Ytest=get_images_array_and_labels('ss304\\\\valid\\\\valid.json') #An experiment to verify difference between test and valid score."
   ]
  },
  {
   "attachments": {},
   "cell_type": "markdown",
   "metadata": {},
   "source": [
    "<h2> 2. Building our Convolutional Nerual Network </h2>\n",
    "\n",
    "<p> The overall architecture of the entire CNN designed is provided below </p>\n",
    "\n",
    "<img src='Assets/CNN Architecture.png'>\n",
    "\n",
    "The image above can be interpreted as: \n",
    "<ul>\n",
    "    <li> Feed input array to the CNN </li>\n",
    "    <li> The first convlution layer has 32 filters with it </li>\n",
    "    <li> The output of first convlution is reduced with maxpooling </li>\n",
    "    <li>Second convlution layer is carried out with 64 filters with it </li>\n",
    "    <li> The output of second convlution layer is again reduced with maxpooling </li>\n",
    "    <li>Flatten the final output from convlution portion </li>\n",
    "    <li> The Flattened one d array is connected to a fully connected layer with 64 neurons on first layer and 6 outputs on final layer </li>\n",
    "</ul>\n",
    "\n",
    "This cell also has some utilities functions with the model creation portions \n"
   ]
  },
  {
   "cell_type": "code",
   "execution_count": 5,
   "metadata": {},
   "outputs": [
    {
     "name": "stdout",
     "output_type": "stream",
     "text": [
      "Model: \"sequential\"\n",
      "_________________________________________________________________\n",
      " Layer (type)                Output Shape              Param #   \n",
      "=================================================================\n",
      " conv2d (Conv2D)             (None, 198, 198, 32)      320       \n",
      "                                                                 \n",
      " max_pooling2d (MaxPooling2D  (None, 99, 99, 32)       0         \n",
      " )                                                               \n",
      "                                                                 \n",
      " conv2d_1 (Conv2D)           (None, 97, 97, 64)        18496     \n",
      "                                                                 \n",
      " max_pooling2d_1 (MaxPooling  (None, 48, 48, 64)       0         \n",
      " 2D)                                                             \n",
      "                                                                 \n",
      " flatten (Flatten)           (None, 147456)            0         \n",
      "                                                                 \n",
      " dense (Dense)               (None, 64)                9437248   \n",
      "                                                                 \n",
      " dense_1 (Dense)             (None, 6)                 390       \n",
      "                                                                 \n",
      "=================================================================\n",
      "Total params: 9,456,454\n",
      "Trainable params: 9,456,454\n",
      "Non-trainable params: 0\n",
      "_________________________________________________________________\n"
     ]
    }
   ],
   "source": [
    "def write_training_history(history):\n",
    "    with open('training_checkpoints.json','w') as f:\n",
    "            json.dump(history,f)\n",
    "\n",
    "def load_training_history():\n",
    "    with open('training_checkpoints.json','r') as f:\n",
    "            f=json.load(f)\n",
    "    return f\n",
    "\n",
    "\n",
    "def get_updated_history(history):\n",
    "    \n",
    "    if 'training_checkpoints.json' not in os.listdir(os.getcwd()):\n",
    "        write_training_history(history)\n",
    "    else: \n",
    "        f=load_training_history()\n",
    "        f['loss']=f['loss']+history['loss']\n",
    "        f['accuracy']=f['accuracy']+history['accuracy']\n",
    "        f['val_loss']=f['val_loss']+history['val_loss']\n",
    "        f['val_accuracy']=f['val_accuracy']+history['val_accuracy']\n",
    "        write_training_history(f)\n",
    "    \n",
    "    return load_training_history()\n",
    "\n",
    "def load_previous_model(CNN_model):\n",
    "    if 'Stainless_Steel_Classification_model.h5' in os.listdir(os.getcwd()):\n",
    "        CNN_model=tf.keras.models.load_model('Stainless_Steel_Classification_model.h5')\n",
    "    else: \n",
    "         if 'training_checkpoints.json' in os.listdir(os.getcwd()):\n",
    "             os.remove('training_checkpoints.json') \n",
    "    \n",
    "    return CNN_model\n",
    "\n",
    "def plot_metrics_for_training(history):\n",
    "    \n",
    "    plt.subplot(221)\n",
    "    plt.plot(history['accuracy'], label='accuracy')\n",
    "    plt.plot(history['val_accuracy'], label = 'val_accuracy')\n",
    "    plt.xlabel('Epoch')\n",
    "    plt.ylabel('Accuracy')\n",
    "    plt.ylim([0.001, 1.25])\n",
    "    plt.legend(loc='lower right')\n",
    "\n",
    "    plt.subplot(222)\n",
    "    plt.plot(history['loss'], label='loss')\n",
    "    plt.plot(history['val_loss'], label = 'val_loss')\n",
    "    plt.xlabel('Epoch')\n",
    "    plt.ylabel('loss')\n",
    "    plt.ylim([0.001, 4.5])\n",
    "    plt.legend(loc='lower right')\n",
    "\n",
    "\n",
    "def create_cnn_model():\n",
    "    model=tf.keras.models.Sequential()\n",
    "\n",
    "    #Convlution Process Starts here.\n",
    "    model.add(tf.keras.layers.Conv2D(32,(3,3),activation='relu',input_shape=(200, 200, 1)))\n",
    "    model.add(tf.keras.layers.MaxPool2D((2,2)))\n",
    "    \n",
    "    model.add(tf.keras.layers.Conv2D(64,(3,3),activation='relu'))\n",
    "    model.add(tf.keras.layers.MaxPool2D((2,2)))\n",
    "    \n",
    "    #Fully Connected Layer from here \n",
    "    model.add(tf.keras.layers.Flatten())\n",
    "    model.add(tf.keras.layers.Dense(64,activation='relu',kernel_regularizer=tf.keras.regularizers.L2(l2=0.0005)))\n",
    "    model.add(tf.keras.layers.Dense(6,activation='softmax',kernel_regularizer=tf.keras.regularizers.L2(l2=0.0005))) \n",
    "    opt = tf.keras.optimizers.Adam(learning_rate=0.0005)\n",
    "    \n",
    "    #Compile the CNN Model\n",
    "    model.compile(optimizer=opt,\n",
    "              loss=tf.keras.losses.SparseCategoricalCrossentropy(),\n",
    "              metrics=['accuracy'])\n",
    "    model.summary()\n",
    "    return model\n",
    "    \n",
    "\n",
    "CNN_model=create_cnn_model()"
   ]
  },
  {
   "attachments": {},
   "cell_type": "markdown",
   "metadata": {},
   "source": [
    "<h2> 3. Training CNN Model </h2> \n",
    "<p> The steps invovled for training the blank model created earlier is shown  below: </p>\n",
    "<img src='Assets/training Architecture.png'>\n",
    "From the Image above we can interpret that: \n",
    "<ul>\n",
    "    <li> Initially we get the blank model built from previous cell </li><br>\n",
    "    <li> Then we check the working directory for model file if present or not </li><br>\n",
    "    <li> If model file is present then: \n",
    "        <ul>\n",
    "            <li>    We load its weights to blank model and history  </li>\n",
    "        </ul>\n",
    "    </li><br>\n",
    "    <li> We train the blank model (loaded with weights or random weights depends on previous step) </li><br>\n",
    "    <li> Once training completed we save the history (combined with previous history or not) and current model on working directory </li>"
   ]
  },
  {
   "cell_type": "code",
   "execution_count": 129,
   "metadata": {},
   "outputs": [
    {
     "name": "stdout",
     "output_type": "stream",
     "text": [
      "Epoch 1/5\n",
      "190/190 [==============================] - 220s 1s/step - loss: 5.6940 - accuracy: 0.9379 - val_loss: 0.5137 - val_accuracy: 0.7436\n",
      "Epoch 2/5\n",
      "190/190 [==============================] - 223s 1s/step - loss: 0.0575 - accuracy: 1.0000 - val_loss: 0.5207 - val_accuracy: 0.8605\n",
      "Epoch 3/5\n",
      "190/190 [==============================] - 218s 1s/step - loss: 0.0514 - accuracy: 1.0000 - val_loss: 0.4886 - val_accuracy: 0.9092\n",
      "Epoch 4/5\n",
      "190/190 [==============================] - 221s 1s/step - loss: 0.0475 - accuracy: 1.0000 - val_loss: 0.4578 - val_accuracy: 0.9044\n",
      "Epoch 5/5\n",
      "190/190 [==============================] - 217s 1s/step - loss: 0.3070 - accuracy: 0.9639 - val_loss: 0.6695 - val_accuracy: 0.8978\n"
     ]
    }
   ],
   "source": [
    "CNN_model=load_previous_model(CNN_model)\n",
    "history_for_plotting=CNN_model.fit(X,Y,epochs=5,batch_size=128,validation_data=(Xtest,Ytest),shuffle=True)\n",
    "history_for_plotting=get_updated_history(history_for_plotting.history)\n",
    "CNN_model.save('Stainless_Steel_Classification_model.h5')\n"
   ]
  },
  {
   "attachments": {},
   "cell_type": "markdown",
   "metadata": {},
   "source": [
    "<h2> 4. Visualizing the performance of the model </h2>"
   ]
  },
  {
   "cell_type": "code",
   "execution_count": 13,
   "metadata": {},
   "outputs": [
    {
     "name": "stdout",
     "output_type": "stream",
     "text": [
      "0.5300528228282928 0.6694656610488892\n"
     ]
    },
    {
     "data": {
      "image/png": "[encoded data removed]",
      "text/plain": [
       "<Figure size 640x480 with 2 Axes>"
      ]
     },
     "metadata": {},
     "output_type": "display_data"
    }
   ],
   "source": [
    "def get_results_details(history):\n",
    "    epochs=len(history['loss'])\n",
    "    \n",
    "    avg_loss=(sum(history['loss']))/(epochs)\n",
    "    last_loss=history['loss'][-1]\n",
    "\n",
    "    avg_val_loss=(sum(history['val_loss']))/(epochs)\n",
    "    last_val_loss=history['val_loss'][-1]\n",
    "\n",
    "    print(avg_val_loss,last_val_loss)\n",
    "\n",
    "    \n",
    "\n",
    "history_for_plotting=load_training_history()\n",
    "get_results_details(history_for_plotting)\n",
    "plot_metrics_for_training(history_for_plotting)"
   ]
  },
  {
   "attachments": {},
   "cell_type": "markdown",
   "metadata": {},
   "source": [
    "<h3> [Last Step No] Inference Testing </h3>"
   ]
  },
  {
   "cell_type": "code",
   "execution_count": 134,
   "metadata": {},
   "outputs": [
    {
     "name": "stdout",
     "output_type": "stream",
     "text": [
      "1/1 [==============================] - 0s 53ms/step\n",
      "[[5.1667539e-06 2.7770648e-07 1.2498330e-07 9.9999189e-01 1.0737373e-06\n",
      "  1.5224658e-06]]\n",
      "3\n",
      "lack of fusion\n"
     ]
    }
   ],
   "source": [
    "#var1='ss304/train/160705-114214-50mmLens w.s.75cm.m/image-0001.png' #op=5,high travel speed\n",
    "#var2='ss304/test/160705-121434-50mmLens added slug/image-0001.png'  #op=2,contaimination\n",
    "#var3='ss304/valid/160705-114925-50mmLens w.s.16cm.m/image-0150.png' #op=0,good weld \n",
    "#var4='ss304/test/160708-145105-50mmLens 350A w.s.Lev16 g.f.20L.m try joining 10mm Plate/image-0042.png' #op=3, lack of fusion\n",
    "\n",
    "\n",
    "CNN_model=load_previous_model(CNN_model)\n",
    "var_input=input('Enter path of the image to test: ')\n",
    "op_list=[\"good weld\",\"burn through\",\"contamination\",\"lack of fusion\",\"lack of shielding gas\",\"high travel speed\"]\n",
    "test_image=convert_to_array(var_input,[],1)\n",
    "prediction=CNN_model.predict(test_image.reshape(1,200,200,1))\n",
    "print(prediction)\n",
    "prediction=np.argmax(prediction)\n",
    "print(prediction)\n",
    "print(op_list[prediction])"
   ]
  },
  {
   "cell_type": "code",
   "execution_count": null,
   "metadata": {},
   "outputs": [],
   "source": []
  }
 ],
 "metadata": {
  "kernelspec": {
   "display_name": "project_stainless_s",
   "language": "python",
   "name": "python3"
  },
  "language_info": {
   "codemirror_mode": {
    "name": "ipython",
    "version": 3
   },
   "file_extension": ".py",
   "mimetype": "text/x-python",
   "name": "python",
   "nbconvert_exporter": "python",
   "pygments_lexer": "ipython3",
   "version": "3.10.9"
  },
  "orig_nbformat": 4,
  "vscode": {
   "interpreter": {
    "hash": "6b1c0ebafa5c7945aaf184b2567775486af678de817e24910505c5d1be5be7e1"
   }
  }
 },
 "nbformat": 4,
 "nbformat_minor": 2
}
