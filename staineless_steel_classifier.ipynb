{
 "cells": [
  {
   "attachments": {},
   "cell_type": "markdown",
   "metadata": {},
   "source": [
    "<h2 align='center'> Stainless Steel Classification </h3>\n",
    "\n",
    "<p> The General idea of this notebook is to highlight all the process and subprocesses done for Stainless Steel Classification.<br>For this project we have used the dataset provided <a href=\"https://www.kaggle.com/code/kerneler/starter-tig-stainless-steel-304-ee6df282-0/data\">Here</a>. </p>\n",
    "\n",
    "<h4> <u> Dataset Discussion </u> </h4>\n",
    "<div>\n",
    "    <img src='Assets\\Dataset_Labels.png' align='right' width=600 height=300>\n",
    "    <p align='left'><br>Our Dataset has been label encoded as following: <br> The idea is that provided an image our classifier will be able to classify the results as one of the following labels. <br><br>[\"good weld\",\"burn through\",\"contamination\",\"lack of fusion\",\"lack of shielding gas\",\"high travel speed\"]<br><br>\n",
    "    Since we are following supervised approach we have a json file which maps each image with corresponding output labels which can be used to map each image with corresponding labels. <br><br> The mentioned json file can be seen below: <br> <br></p>\n",
    "    <img src='Assets\\json_files.png' width=550>\n",
    "</div>\n",
    "\n",
    "\n",
    "<h3> 0. Intalling Dependencies </h3>"
   ]
  },
  {
   "cell_type": "code",
   "execution_count": 36,
   "metadata": {},
   "outputs": [
    {
     "name": "stdout",
     "output_type": "stream",
     "text": [
      "Requirement already satisfied: tensorflow in c:\\users\\fm-pc-lt-233\\anaconda3\\envs\\project_stainless_s\\lib\\site-packages (2.11.0)\n",
      "Requirement already satisfied: tensorflow-intel==2.11.0 in c:\\users\\fm-pc-lt-233\\anaconda3\\envs\\project_stainless_s\\lib\\site-packages (from tensorflow) (2.11.0)\n",
      "Requirement already satisfied: google-pasta>=0.1.1 in c:\\users\\fm-pc-lt-233\\anaconda3\\envs\\project_stainless_s\\lib\\site-packages (from tensorflow-intel==2.11.0->tensorflow) (0.2.0)\n",
      "Requirement already satisfied: tensorboard<2.12,>=2.11 in c:\\users\\fm-pc-lt-233\\anaconda3\\envs\\project_stainless_s\\lib\\site-packages (from tensorflow-intel==2.11.0->tensorflow) (2.11.2)\n",
      "Requirement already satisfied: packaging in c:\\users\\fm-pc-lt-233\\anaconda3\\envs\\project_stainless_s\\lib\\site-packages (from tensorflow-intel==2.11.0->tensorflow) (23.0)\n",
      "Requirement already satisfied: wrapt>=1.11.0 in c:\\users\\fm-pc-lt-233\\anaconda3\\envs\\project_stainless_s\\lib\\site-packages (from tensorflow-intel==2.11.0->tensorflow) (1.14.1)\n",
      "Requirement already satisfied: tensorflow-io-gcs-filesystem>=0.23.1 in c:\\users\\fm-pc-lt-233\\anaconda3\\envs\\project_stainless_s\\lib\\site-packages (from tensorflow-intel==2.11.0->tensorflow) (0.30.0)\n",
      "Requirement already satisfied: absl-py>=1.0.0 in c:\\users\\fm-pc-lt-233\\anaconda3\\envs\\project_stainless_s\\lib\\site-packages (from tensorflow-intel==2.11.0->tensorflow) (1.4.0)\n",
      "Requirement already satisfied: opt-einsum>=2.3.2 in c:\\users\\fm-pc-lt-233\\anaconda3\\envs\\project_stainless_s\\lib\\site-packages (from tensorflow-intel==2.11.0->tensorflow) (3.3.0)\n",
      "Requirement already satisfied: gast<=0.4.0,>=0.2.1 in c:\\users\\fm-pc-lt-233\\anaconda3\\envs\\project_stainless_s\\lib\\site-packages (from tensorflow-intel==2.11.0->tensorflow) (0.4.0)\n",
      "Requirement already satisfied: termcolor>=1.1.0 in c:\\users\\fm-pc-lt-233\\anaconda3\\envs\\project_stainless_s\\lib\\site-packages (from tensorflow-intel==2.11.0->tensorflow) (2.2.0)\n",
      "Requirement already satisfied: keras<2.12,>=2.11.0 in c:\\users\\fm-pc-lt-233\\anaconda3\\envs\\project_stainless_s\\lib\\site-packages (from tensorflow-intel==2.11.0->tensorflow) (2.11.0)\n",
      "Requirement already satisfied: tensorflow-estimator<2.12,>=2.11.0 in c:\\users\\fm-pc-lt-233\\anaconda3\\envs\\project_stainless_s\\lib\\site-packages (from tensorflow-intel==2.11.0->tensorflow) (2.11.0)\n",
      "Requirement already satisfied: h5py>=2.9.0 in c:\\users\\fm-pc-lt-233\\anaconda3\\envs\\project_stainless_s\\lib\\site-packages (from tensorflow-intel==2.11.0->tensorflow) (3.7.0)\n",
      "Requirement already satisfied: grpcio<2.0,>=1.24.3 in c:\\users\\fm-pc-lt-233\\anaconda3\\envs\\project_stainless_s\\lib\\site-packages (from tensorflow-intel==2.11.0->tensorflow) (1.51.1)\n",
      "Requirement already satisfied: six>=1.12.0 in c:\\users\\fm-pc-lt-233\\anaconda3\\envs\\project_stainless_s\\lib\\site-packages (from tensorflow-intel==2.11.0->tensorflow) (1.16.0)\n",
      "Requirement already satisfied: libclang>=13.0.0 in c:\\users\\fm-pc-lt-233\\anaconda3\\envs\\project_stainless_s\\lib\\site-packages (from tensorflow-intel==2.11.0->tensorflow) (15.0.6.1)\n",
      "Requirement already satisfied: setuptools in c:\\users\\fm-pc-lt-233\\anaconda3\\envs\\project_stainless_s\\lib\\site-packages (from tensorflow-intel==2.11.0->tensorflow) (65.6.3)\n",
      "Requirement already satisfied: numpy>=1.20 in c:\\users\\fm-pc-lt-233\\anaconda3\\envs\\project_stainless_s\\lib\\site-packages (from tensorflow-intel==2.11.0->tensorflow) (1.24.1)\n",
      "Requirement already satisfied: astunparse>=1.6.0 in c:\\users\\fm-pc-lt-233\\anaconda3\\envs\\project_stainless_s\\lib\\site-packages (from tensorflow-intel==2.11.0->tensorflow) (1.6.3)\n",
      "Requirement already satisfied: typing-extensions>=3.6.6 in c:\\users\\fm-pc-lt-233\\anaconda3\\envs\\project_stainless_s\\lib\\site-packages (from tensorflow-intel==2.11.0->tensorflow) (4.4.0)\n",
      "Requirement already satisfied: flatbuffers>=2.0 in c:\\users\\fm-pc-lt-233\\anaconda3\\envs\\project_stainless_s\\lib\\site-packages (from tensorflow-intel==2.11.0->tensorflow) (23.1.4)\n",
      "Requirement already satisfied: protobuf<3.20,>=3.9.2 in c:\\users\\fm-pc-lt-233\\anaconda3\\envs\\project_stainless_s\\lib\\site-packages (from tensorflow-intel==2.11.0->tensorflow) (3.19.6)\n",
      "Requirement already satisfied: wheel<1.0,>=0.23.0 in c:\\users\\fm-pc-lt-233\\anaconda3\\envs\\project_stainless_s\\lib\\site-packages (from astunparse>=1.6.0->tensorflow-intel==2.11.0->tensorflow) (0.37.1)\n",
      "Requirement already satisfied: tensorboard-plugin-wit>=1.6.0 in c:\\users\\fm-pc-lt-233\\anaconda3\\envs\\project_stainless_s\\lib\\site-packages (from tensorboard<2.12,>=2.11->tensorflow-intel==2.11.0->tensorflow) (1.8.1)\n",
      "Requirement already satisfied: requests<3,>=2.21.0 in c:\\users\\fm-pc-lt-233\\anaconda3\\envs\\project_stainless_s\\lib\\site-packages (from tensorboard<2.12,>=2.11->tensorflow-intel==2.11.0->tensorflow) (2.28.2)\n",
      "Requirement already satisfied: google-auth-oauthlib<0.5,>=0.4.1 in c:\\users\\fm-pc-lt-233\\anaconda3\\envs\\project_stainless_s\\lib\\site-packages (from tensorboard<2.12,>=2.11->tensorflow-intel==2.11.0->tensorflow) (0.4.6)\n",
      "Requirement already satisfied: markdown>=2.6.8 in c:\\users\\fm-pc-lt-233\\anaconda3\\envs\\project_stainless_s\\lib\\site-packages (from tensorboard<2.12,>=2.11->tensorflow-intel==2.11.0->tensorflow) (3.4.1)\n",
      "Requirement already satisfied: google-auth<3,>=1.6.3 in c:\\users\\fm-pc-lt-233\\anaconda3\\envs\\project_stainless_s\\lib\\site-packages (from tensorboard<2.12,>=2.11->tensorflow-intel==2.11.0->tensorflow) (2.16.0)\n",
      "Requirement already satisfied: tensorboard-data-server<0.7.0,>=0.6.0 in c:\\users\\fm-pc-lt-233\\anaconda3\\envs\\project_stainless_s\\lib\\site-packages (from tensorboard<2.12,>=2.11->tensorflow-intel==2.11.0->tensorflow) (0.6.1)\n",
      "Requirement already satisfied: werkzeug>=1.0.1 in c:\\users\\fm-pc-lt-233\\anaconda3\\envs\\project_stainless_s\\lib\\site-packages (from tensorboard<2.12,>=2.11->tensorflow-intel==2.11.0->tensorflow) (2.2.2)\n",
      "Requirement already satisfied: pyasn1-modules>=0.2.1 in c:\\users\\fm-pc-lt-233\\anaconda3\\envs\\project_stainless_s\\lib\\site-packages (from google-auth<3,>=1.6.3->tensorboard<2.12,>=2.11->tensorflow-intel==2.11.0->tensorflow) (0.2.8)\n",
      "Requirement already satisfied: rsa<5,>=3.1.4 in c:\\users\\fm-pc-lt-233\\anaconda3\\envs\\project_stainless_s\\lib\\site-packages (from google-auth<3,>=1.6.3->tensorboard<2.12,>=2.11->tensorflow-intel==2.11.0->tensorflow) (4.9)\n",
      "Requirement already satisfied: cachetools<6.0,>=2.0.0 in c:\\users\\fm-pc-lt-233\\anaconda3\\envs\\project_stainless_s\\lib\\site-packages (from google-auth<3,>=1.6.3->tensorboard<2.12,>=2.11->tensorflow-intel==2.11.0->tensorflow) (5.2.1)\n",
      "Requirement already satisfied: requests-oauthlib>=0.7.0 in c:\\users\\fm-pc-lt-233\\anaconda3\\envs\\project_stainless_s\\lib\\site-packages (from google-auth-oauthlib<0.5,>=0.4.1->tensorboard<2.12,>=2.11->tensorflow-intel==2.11.0->tensorflow) (1.3.1)\n",
      "Requirement already satisfied: idna<4,>=2.5 in c:\\users\\fm-pc-lt-233\\anaconda3\\envs\\project_stainless_s\\lib\\site-packages (from requests<3,>=2.21.0->tensorboard<2.12,>=2.11->tensorflow-intel==2.11.0->tensorflow) (3.4)\n",
      "Requirement already satisfied: urllib3<1.27,>=1.21.1 in c:\\users\\fm-pc-lt-233\\anaconda3\\envs\\project_stainless_s\\lib\\site-packages (from requests<3,>=2.21.0->tensorboard<2.12,>=2.11->tensorflow-intel==2.11.0->tensorflow) (1.26.14)\n",
      "Requirement already satisfied: certifi>=2017.4.17 in c:\\users\\fm-pc-lt-233\\anaconda3\\envs\\project_stainless_s\\lib\\site-packages (from requests<3,>=2.21.0->tensorboard<2.12,>=2.11->tensorflow-intel==2.11.0->tensorflow) (2022.12.7)\n",
      "Requirement already satisfied: charset-normalizer<4,>=2 in c:\\users\\fm-pc-lt-233\\anaconda3\\envs\\project_stainless_s\\lib\\site-packages (from requests<3,>=2.21.0->tensorboard<2.12,>=2.11->tensorflow-intel==2.11.0->tensorflow) (3.0.1)\n",
      "Requirement already satisfied: MarkupSafe>=2.1.1 in c:\\users\\fm-pc-lt-233\\anaconda3\\envs\\project_stainless_s\\lib\\site-packages (from werkzeug>=1.0.1->tensorboard<2.12,>=2.11->tensorflow-intel==2.11.0->tensorflow) (2.1.2)\n",
      "Requirement already satisfied: pyasn1<0.5.0,>=0.4.6 in c:\\users\\fm-pc-lt-233\\anaconda3\\envs\\project_stainless_s\\lib\\site-packages (from pyasn1-modules>=0.2.1->google-auth<3,>=1.6.3->tensorboard<2.12,>=2.11->tensorflow-intel==2.11.0->tensorflow) (0.4.8)\n",
      "Requirement already satisfied: oauthlib>=3.0.0 in c:\\users\\fm-pc-lt-233\\anaconda3\\envs\\project_stainless_s\\lib\\site-packages (from requests-oauthlib>=0.7.0->google-auth-oauthlib<0.5,>=0.4.1->tensorboard<2.12,>=2.11->tensorflow-intel==2.11.0->tensorflow) (3.2.2)\n",
      "Requirement already satisfied: scikit-learn in c:\\users\\fm-pc-lt-233\\anaconda3\\envs\\project_stainless_s\\lib\\site-packages (1.2.0)\n",
      "Requirement already satisfied: joblib>=1.1.1 in c:\\users\\fm-pc-lt-233\\anaconda3\\envs\\project_stainless_s\\lib\\site-packages (from scikit-learn) (1.2.0)\n",
      "Requirement already satisfied: scipy>=1.3.2 in c:\\users\\fm-pc-lt-233\\anaconda3\\envs\\project_stainless_s\\lib\\site-packages (from scikit-learn) (1.10.0)\n",
      "Requirement already satisfied: threadpoolctl>=2.0.0 in c:\\users\\fm-pc-lt-233\\anaconda3\\envs\\project_stainless_s\\lib\\site-packages (from scikit-learn) (3.1.0)\n",
      "Requirement already satisfied: numpy>=1.17.3 in c:\\users\\fm-pc-lt-233\\anaconda3\\envs\\project_stainless_s\\lib\\site-packages (from scikit-learn) (1.24.1)\n",
      "Requirement already satisfied: numpy in c:\\users\\fm-pc-lt-233\\anaconda3\\envs\\project_stainless_s\\lib\\site-packages (1.24.1)\n",
      "Collecting pillow\n",
      "  Using cached Pillow-9.4.0-cp310-cp310-win_amd64.whl (2.5 MB)\n",
      "Installing collected packages: pillow\n",
      "Successfully installed pillow-9.4.0\n"
     ]
    }
   ],
   "source": [
    "!pip install tensorflow \n",
    "!pip install -U scikit-learn\n",
    "!pip install numpy\n",
    "!pip install pillow\n"
   ]
  },
  {
   "attachments": {},
   "cell_type": "markdown",
   "metadata": {},
   "source": [
    "<h3> 1. PreProcessing </h3>\n",
    "\n",
    "<p> Once Downloaded please unzip the dataset on the same working directory and the folder directory should be: <br>\n",
    "\n",
    "<i>../ss304/train/train.json</i>\n",
    "</p>\n"
   ]
  },
  {
   "cell_type": "code",
   "execution_count": 37,
   "metadata": {},
   "outputs": [
    {
     "ename": "KeyboardInterrupt",
     "evalue": "",
     "output_type": "error",
     "traceback": [
      "\u001b[1;31m---------------------------------------------------------------------------\u001b[0m",
      "\u001b[1;31mKeyboardInterrupt\u001b[0m                         Traceback (most recent call last)",
      "Cell \u001b[1;32mIn[37], line 26\u001b[0m\n\u001b[0;32m     21\u001b[0m     labels\u001b[39m=\u001b[39mnp\u001b[39m.\u001b[39marray(\u001b[39mlist\u001b[39m(datasets\u001b[39m.\u001b[39mvalues()))\u001b[39m.\u001b[39mreshape(\u001b[39m-\u001b[39m\u001b[39m1\u001b[39m,\u001b[39m1\u001b[39m)\n\u001b[0;32m     22\u001b[0m     \u001b[39mreturn\u001b[39;00m labels\n\u001b[1;32m---> 26\u001b[0m Y\u001b[39m=\u001b[39mmap_labels(\u001b[39m'\u001b[39;49m\u001b[39mss304\u001b[39;49m\u001b[39m\\\\\u001b[39;49;00m\u001b[39mtrain\u001b[39;49m\u001b[39m\\\\\u001b[39;49;00m\u001b[39mtrain.json\u001b[39;49m\u001b[39m'\u001b[39;49m)\n",
      "Cell \u001b[1;32mIn[37], line 20\u001b[0m, in \u001b[0;36mmap_labels\u001b[1;34m(path)\u001b[0m\n\u001b[0;32m     18\u001b[0m features\u001b[39m=\u001b[39m\u001b[39mlist\u001b[39m(datasets\u001b[39m.\u001b[39mkeys())\n\u001b[0;32m     19\u001b[0m features\u001b[39m=\u001b[39m[\u001b[39m'\u001b[39m\u001b[39m/\u001b[39m\u001b[39m'\u001b[39m\u001b[39m.\u001b[39mjoin(path\u001b[39m.\u001b[39msplit(\u001b[39m'\u001b[39m\u001b[39m\\\\\u001b[39;00m\u001b[39m'\u001b[39m)[\u001b[39m0\u001b[39m:\u001b[39m-\u001b[39m\u001b[39m1\u001b[39m])\u001b[39m+\u001b[39m\u001b[39m'\u001b[39m\u001b[39m/\u001b[39m\u001b[39m'\u001b[39m\u001b[39m+\u001b[39m\u001b[39mstr\u001b[39m(i) \u001b[39mfor\u001b[39;00m i \u001b[39min\u001b[39;00m features]\n\u001b[1;32m---> 20\u001b[0m features\u001b[39m=\u001b[39mnp\u001b[39m.\u001b[39marray([convert_to_array(i) \u001b[39mfor\u001b[39;00m i \u001b[39min\u001b[39;00m features])\n\u001b[0;32m     21\u001b[0m labels\u001b[39m=\u001b[39mnp\u001b[39m.\u001b[39marray(\u001b[39mlist\u001b[39m(datasets\u001b[39m.\u001b[39mvalues()))\u001b[39m.\u001b[39mreshape(\u001b[39m-\u001b[39m\u001b[39m1\u001b[39m,\u001b[39m1\u001b[39m)\n\u001b[0;32m     22\u001b[0m \u001b[39mreturn\u001b[39;00m labels\n",
      "Cell \u001b[1;32mIn[37], line 20\u001b[0m, in \u001b[0;36m<listcomp>\u001b[1;34m(.0)\u001b[0m\n\u001b[0;32m     18\u001b[0m features\u001b[39m=\u001b[39m\u001b[39mlist\u001b[39m(datasets\u001b[39m.\u001b[39mkeys())\n\u001b[0;32m     19\u001b[0m features\u001b[39m=\u001b[39m[\u001b[39m'\u001b[39m\u001b[39m/\u001b[39m\u001b[39m'\u001b[39m\u001b[39m.\u001b[39mjoin(path\u001b[39m.\u001b[39msplit(\u001b[39m'\u001b[39m\u001b[39m\\\\\u001b[39;00m\u001b[39m'\u001b[39m)[\u001b[39m0\u001b[39m:\u001b[39m-\u001b[39m\u001b[39m1\u001b[39m])\u001b[39m+\u001b[39m\u001b[39m'\u001b[39m\u001b[39m/\u001b[39m\u001b[39m'\u001b[39m\u001b[39m+\u001b[39m\u001b[39mstr\u001b[39m(i) \u001b[39mfor\u001b[39;00m i \u001b[39min\u001b[39;00m features]\n\u001b[1;32m---> 20\u001b[0m features\u001b[39m=\u001b[39mnp\u001b[39m.\u001b[39marray([convert_to_array(i) \u001b[39mfor\u001b[39;00m i \u001b[39min\u001b[39;00m features])\n\u001b[0;32m     21\u001b[0m labels\u001b[39m=\u001b[39mnp\u001b[39m.\u001b[39marray(\u001b[39mlist\u001b[39m(datasets\u001b[39m.\u001b[39mvalues()))\u001b[39m.\u001b[39mreshape(\u001b[39m-\u001b[39m\u001b[39m1\u001b[39m,\u001b[39m1\u001b[39m)\n\u001b[0;32m     22\u001b[0m \u001b[39mreturn\u001b[39;00m labels\n",
      "Cell \u001b[1;32mIn[37], line 9\u001b[0m, in \u001b[0;36mconvert_to_array\u001b[1;34m(image)\u001b[0m\n\u001b[0;32m      7\u001b[0m \u001b[39mdef\u001b[39;00m \u001b[39mconvert_to_array\u001b[39m(image):\n\u001b[0;32m      8\u001b[0m     image \u001b[39m=\u001b[39m Image\u001b[39m.\u001b[39mopen(image)\n\u001b[1;32m----> 9\u001b[0m     image\u001b[39m=\u001b[39mimage\u001b[39m.\u001b[39;49mresize((\u001b[39m200\u001b[39;49m,\u001b[39m200\u001b[39;49m))\n\u001b[0;32m     10\u001b[0m     numpydata \u001b[39m=\u001b[39m np\u001b[39m.\u001b[39masarray(image)\n\u001b[0;32m     11\u001b[0m     \u001b[39mreturn\u001b[39;00m numpydata\n",
      "File \u001b[1;32mc:\\Users\\FM-PC-LT-233\\anaconda3\\envs\\project_stainless_s\\lib\\site-packages\\PIL\\Image.py:2156\u001b[0m, in \u001b[0;36mImage.resize\u001b[1;34m(self, size, resample, box, reducing_gap)\u001b[0m\n\u001b[0;32m   2152\u001b[0m     \u001b[39mraise\u001b[39;00m \u001b[39mValueError\u001b[39;00m(msg)\n\u001b[0;32m   2154\u001b[0m size \u001b[39m=\u001b[39m \u001b[39mtuple\u001b[39m(size)\n\u001b[1;32m-> 2156\u001b[0m \u001b[39mself\u001b[39;49m\u001b[39m.\u001b[39;49mload()\n\u001b[0;32m   2157\u001b[0m \u001b[39mif\u001b[39;00m box \u001b[39mis\u001b[39;00m \u001b[39mNone\u001b[39;00m:\n\u001b[0;32m   2158\u001b[0m     box \u001b[39m=\u001b[39m (\u001b[39m0\u001b[39m, \u001b[39m0\u001b[39m) \u001b[39m+\u001b[39m \u001b[39mself\u001b[39m\u001b[39m.\u001b[39msize\n",
      "File \u001b[1;32mc:\\Users\\FM-PC-LT-233\\anaconda3\\envs\\project_stainless_s\\lib\\site-packages\\PIL\\ImageFile.py:269\u001b[0m, in \u001b[0;36mImageFile.load\u001b[1;34m(self)\u001b[0m\n\u001b[0;32m    266\u001b[0m         \u001b[39mraise\u001b[39;00m \u001b[39mOSError\u001b[39;00m(msg)\n\u001b[0;32m    268\u001b[0m b \u001b[39m=\u001b[39m b \u001b[39m+\u001b[39m s\n\u001b[1;32m--> 269\u001b[0m n, err_code \u001b[39m=\u001b[39m decoder\u001b[39m.\u001b[39;49mdecode(b)\n\u001b[0;32m    270\u001b[0m \u001b[39mif\u001b[39;00m n \u001b[39m<\u001b[39m \u001b[39m0\u001b[39m:\n\u001b[0;32m    271\u001b[0m     \u001b[39mbreak\u001b[39;00m\n",
      "\u001b[1;31mKeyboardInterrupt\u001b[0m: "
     ]
    }
   ],
   "source": [
    "import json\n",
    "import numpy as np \n",
    "from PIL import Image\n",
    "\n",
    "np.set_printoptions(threshold=sys.maxsize)\n",
    "\n",
    "def convert_to_array(image):\n",
    "    print('Converting Image to array: ')\n",
    "    image = Image.open(image)\n",
    "    image=image.resize((200,200))\n",
    "    numpydata = np.asarray(image)\n",
    "    return numpydata\n",
    "\n",
    "\n",
    "def map_labels(path):\n",
    "    \n",
    "    with open(path,'r') as datasets:\n",
    "        datasets=json.load(datasets)\n",
    "    features=list(datasets.keys())\n",
    "    features=['/'.join(path.split('\\\\')[0:-1])+'/'+str(i) for i in features]\n",
    "    features=np.array([convert_to_array(i) for i in features])\n",
    "    labels=np.array(list(datasets.values())).reshape(-1,1)\n",
    "    return labels\n",
    "    \n",
    "    \n",
    "\n",
    "Y=map_labels('ss304\\\\train\\\\train.json')"
   ]
  }
 ],
 "metadata": {
  "kernelspec": {
   "display_name": "project_stainless_s",
   "language": "python",
   "name": "python3"
  },
  "language_info": {
   "codemirror_mode": {
    "name": "ipython",
    "version": 3
   },
   "file_extension": ".py",
   "mimetype": "text/x-python",
   "name": "python",
   "nbconvert_exporter": "python",
   "pygments_lexer": "ipython3",
   "version": "3.10.9"
  },
  "orig_nbformat": 4,
  "vscode": {
   "interpreter": {
    "hash": "6b1c0ebafa5c7945aaf184b2567775486af678de817e24910505c5d1be5be7e1"
   }
  }
 },
 "nbformat": 4,
 "nbformat_minor": 2
}
