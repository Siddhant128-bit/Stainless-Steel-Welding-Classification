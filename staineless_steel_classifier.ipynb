{
 "cells": [
  {
   "attachments": {},
   "cell_type": "markdown",
   "metadata": {},
   "source": [
    "<h2 align='center'> Stainless Steel Classification </h3>\n",
    "\n",
    "<p> The General idea of this notebook is to highlight all the process and subprocesses done for Stainless Steel Classification.<br>For this project we have used the dataset provided <a href=\"https://www.kaggle.com/code/kerneler/starter-tig-stainless-steel-304-ee6df282-0/data\">Here</a>. </p>\n",
    "\n",
    "<h4> <u> Dataset Discussion </u> </h4>\n",
    "<div>\n",
    "    <img src='Assets\\Dataset_Labels.png' align='right' width=600 height=300>\n",
    "    <p align='left'><br>Our Dataset has been label encoded as following: <br> The idea is that provided an image our classifier will be able to classify the results as one of the following labels. <br><br>[\"good weld\",\"burn through\",\"contamination\",\"lack of fusion\",\"lack of shielding gas\",\"high travel speed\"]<br><br>\n",
    "    Since we are following supervised approach we have a json file which maps each image with corresponding output labels which can be used to map each image with corresponding labels. <br><br> The mentioned json file can be seen below: <br> <br></p>\n",
    "    <img src='Assets\\json_files.png' width=550>\n",
    "</div>\n",
    "\n",
    "\n",
    "<h3> 0. Intalling Dependencies </h3>"
   ]
  },
  {
   "cell_type": "code",
   "execution_count": null,
   "metadata": {},
   "outputs": [],
   "source": [
    "!pip install tensorflow \n",
    "!pip install -U scikit-learn\n",
    "!pip install numpy\n",
    "!pip install pillow\n"
   ]
  },
  {
   "attachments": {},
   "cell_type": "markdown",
   "metadata": {},
   "source": [
    "<h3> 1. Importing Dependencies </h3>\n",
    "\n",
    "Let's import all the dependencies so we can use it later"
   ]
  },
  {
   "cell_type": "code",
   "execution_count": null,
   "metadata": {},
   "outputs": [],
   "source": [
    "import json\n",
    "import numpy as np \n",
    "from PIL import Image\n",
    "import tensorflow as tf\n",
    "\n",
    "np.set_printoptions(threshold=sys.maxsize)"
   ]
  },
  {
   "attachments": {},
   "cell_type": "markdown",
   "metadata": {},
   "source": [
    "<h3> 1. PreProcessing </h3>\n",
    "\n",
    "<p> Once Downloaded please unzip the dataset on the same working directory and the folder directory should be: <br>\n",
    "\n",
    "<i>../ss304/train/train.json</i>\n",
    "</p>\n"
   ]
  },
  {
   "cell_type": "code",
   "execution_count": null,
   "metadata": {},
   "outputs": [],
   "source": [
    "def convert_to_array(i,features,f):\n",
    "\n",
    "    if f==0:\n",
    "        image=features[i]\n",
    "        print(f'loading {i+1} out of {len(features)} Images Loaded')\n",
    "        \n",
    "    else: \n",
    "        image=i\n",
    "    \n",
    "    image = Image.open(image)\n",
    "    image=image.resize((300,300))\n",
    "    numpydata = np.asarray(image)\n",
    "    \n",
    "    return numpydata\n",
    "\n",
    "\n",
    "def get_images_array_and_labels(path):\n",
    "    \n",
    "    with open(path,'r') as datasets:\n",
    "        datasets=json.load(datasets)\n",
    "    features=list(datasets.keys())\n",
    "    features=['/'.join(path.split('\\\\')[0:-1])+'/'+str(i) for i in features]\n",
    "    features=np.array([convert_to_array(i,features,0) for i in range(len(features))])\n",
    "    labels=np.array(list(datasets.values())).reshape(-1,1)\n",
    "    labels=tf.keras.utils.to_categorical(labels)\n",
    "    return features,labels\n",
    "    \n",
    "    \n",
    "\n",
    "X,Y=get_images_array_and_labels('ss304\\\\train\\\\train.json')\n",
    "Xtest,Ytest=get_images_array_and_labels('ss304\\\\test\\\\test.json')"
   ]
  },
  {
   "cell_type": "code",
   "execution_count": null,
   "metadata": {},
   "outputs": [],
   "source": [
    "def create_cnn_model():\n",
    "    model=tf.keras.models.Sequential() #if imported from tensorflow.keras import models we would write models.Sequential\n",
    "\n",
    "    #Convlution Process Starts here.\n",
    "    model.add(tf.keras.layers.Conv2D(32,(3,3),activation='relu',input_shape=(300, 300, 1)))\n",
    "    model.add(tf.keras.layers.MaxPool2D((2,2)))\n",
    "    model.add(tf.keras.layers.Conv2D(64,(3,3),activation='relu'))\n",
    "    model.add(tf.keras.layers.MaxPool2D((2,2)))\n",
    "    \n",
    "    model.add(tf.keras.layers.Conv2D(128,(3,3),activation='relu'))\n",
    "    model.add(tf.keras.layers.MaxPool2D((2,2)))\n",
    "    \n",
    "    model.add(tf.keras.layers.Conv2D(128,(3,3),activation='relu'))\n",
    "    model.add(tf.keras.layers.MaxPool2D((2,2)))\n",
    "    \n",
    "    model.add(tf.keras.layers.Conv2D(128,(3,3),activation='relu'))\n",
    "    model.add(tf.keras.layers.MaxPool2D((2,2)))\n",
    "    \n",
    "    model.add(tf.keras.layers.Conv2D(64,(3,3),activation='relu'))\n",
    "    \n",
    "    #Fully Connected Layer from here \n",
    "    model.add(tf.keras.layers.Flatten())\n",
    "    model.add(tf.keras.layers.Dense(64,activation='relu'))\n",
    "    model.add(tf.keras.layers.Dense(6,activation='softmax')) \n",
    "    opt = tf.keras.optimizers.Adam(learning_rate=0.001)\n",
    "    \n",
    "    #Compile the CNN Model\n",
    "    model.compile(optimizer=opt,\n",
    "              loss='categorial_crossentropy',\n",
    "              metrics=['accuracy'])\n",
    "    model.summary()\n",
    "    return model\n",
    "    \n",
    "CNN_model=create_cnn_model()"
   ]
  },
  {
   "cell_type": "code",
   "execution_count": null,
   "metadata": {},
   "outputs": [],
   "source": [
    "#print(X_test[1].shape)\n",
    "history_for_plotting=CNN_model.fit(X,Y,epochs=3,validation_data=(Xtest,Ytest),shuffle=True)"
   ]
  },
  {
   "cell_type": "code",
   "execution_count": null,
   "metadata": {},
   "outputs": [],
   "source": [
    "CNN_model.save('Stainless_Steel_Classification_model.h5')\n"
   ]
  },
  {
   "attachments": {},
   "cell_type": "markdown",
   "metadata": {},
   "source": [
    "<h3> [Last Step No] Inference Testing </h3>"
   ]
  },
  {
   "cell_type": "code",
   "execution_count": null,
   "metadata": {},
   "outputs": [],
   "source": [
    "#var1='ss304/train/160705-114214-50mmLens w.s.75cm.m/image-0001.png'\n",
    "#var2='ss304/test/160705-121434-50mmLens added slug/image-0001.png'\n",
    "#var3='ss304/valid/160705-114925-50mmLens w.s.16cm.m/image-0150.png'\n",
    "var4='ss304/test/160708-145105-50mmLens 350A w.s.Lev16 g.f.20L.m try joining 10mm Plate/image-0042.png'\n",
    "op_list=[\"good weld\",\"burn through\",\"contamination\",\"lack of fusion\",\"lack of shielding gas\",\"high travel speed\"]\n",
    "test_image=convert_to_array(var4,[],1)\n",
    "prediction=CNN_model.predict(test_image.reshape(1,300,300,1))\n",
    "prediction=np.argmax(prediction)\n",
    "print(prediction)\n",
    "print(op_list[prediction])"
   ]
  },
  {
   "cell_type": "code",
   "execution_count": null,
   "metadata": {},
   "outputs": [],
   "source": []
  }
 ],
 "metadata": {
  "kernelspec": {
   "display_name": "project_stainless_s",
   "language": "python",
   "name": "python3"
  },
  "language_info": {
   "codemirror_mode": {
    "name": "ipython",
    "version": 3
   },
   "file_extension": ".py",
   "mimetype": "text/x-python",
   "name": "python",
   "nbconvert_exporter": "python",
   "pygments_lexer": "ipython3",
   "version": "3.10.9"
  },
  "orig_nbformat": 4,
  "vscode": {
   "interpreter": {
    "hash": "6b1c0ebafa5c7945aaf184b2567775486af678de817e24910505c5d1be5be7e1"
   }
  }
 },
 "nbformat": 4,
 "nbformat_minor": 2
}
